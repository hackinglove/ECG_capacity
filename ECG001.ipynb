{
  "nbformat": 4,
  "nbformat_minor": 0,
  "metadata": {
    "colab": {
      "name": "ECG001.ipynb",
      "provenance": [],
      "toc_visible": true,
      "authorship_tag": "ABX9TyM45irSZaqbUbbiaQJCzG2C",
      "include_colab_link": true
    },
    "kernelspec": {
      "name": "python3",
      "display_name": "Python 3"
    },
    "accelerator": "GPU"
  },
  "cells": [
    {
      "cell_type": "markdown",
      "metadata": {
        "id": "view-in-github",
        "colab_type": "text"
      },
      "source": [
        "<a href=\"https://colab.research.google.com/github/hackinglove/ECG_capacity/blob/main/ECG001.ipynb\" target=\"_parent\"><img src=\"https://colab.research.google.com/assets/colab-badge.svg\" alt=\"Open In Colab\"/></a>"
      ]
    },
    {
      "cell_type": "markdown",
      "metadata": {
        "id": "j6Bo4nn-_pnk"
      },
      "source": [
        "# 1. 相关库导入\n",
        "\n",
        "\n",
        "\n",
        "> 本模型采用神经网络算法，采用python3语言和Tensorflow框架，从文件中读取待处理数据进行训练，故需导入numpy，tenserflow，matliob等库。\n",
        "\n",
        "\n",
        "  代码如下：\n",
        "\n"
      ]
    },
    {
      "cell_type": "code",
      "metadata": {
        "id": "2GiCnSr-_PR-"
      },
      "source": [
        "import tensorflow as tf\r\n",
        "import numpy as np"
      ],
      "execution_count": 2,
      "outputs": []
    },
    {
      "cell_type": "markdown",
      "metadata": {
        "id": "74j9LhAfsG7a"
      },
      "source": [
        "# 2. 数据预处理"
      ]
    },
    {
      "cell_type": "markdown",
      "metadata": {
        "id": "3hGPB5MusQML"
      },
      "source": [
        "# 3. 模型搭建"
      ]
    },
    {
      "cell_type": "markdown",
      "metadata": {
        "id": "8KRSsizQsTyp"
      },
      "source": [
        "# 4. 模型训练"
      ]
    },
    {
      "cell_type": "markdown",
      "metadata": {
        "id": "2KL_AhQusXdh"
      },
      "source": [
        "# 5. 模型检验"
      ]
    }
  ]
}