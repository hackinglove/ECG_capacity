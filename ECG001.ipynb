{
  "nbformat": 4,
  "nbformat_minor": 0,
  "metadata": {
    "colab": {
      "name": "ECG001.ipynb",
      "provenance": [],
      "toc_visible": true,
      "authorship_tag": "ABX9TyMNpLYsAAJ/UjMOKQivlXW5",
      "include_colab_link": true
    },
    "kernelspec": {
      "name": "python3",
      "display_name": "Python 3"
    },
    "accelerator": "GPU"
  },
  "cells": [
    {
      "cell_type": "markdown",
      "metadata": {
        "id": "view-in-github",
        "colab_type": "text"
      },
      "source": [
        "<a href=\"https://colab.research.google.com/github/hackinglove/ECG_capacity/blob/main/ECG001.ipynb\" target=\"_parent\"><img src=\"https://colab.research.google.com/assets/colab-badge.svg\" alt=\"Open In Colab\"/></a>"
      ]
    },
    {
      "cell_type": "markdown",
      "metadata": {
        "id": "j6Bo4nn-_pnk"
      },
      "source": [
        "# 1. 相关库导入\n",
        "\n",
        "\n",
        "\n",
        "> 本模型采用神经网络算法，采用python3语言和Tensorflow框架，从文件中读取待处理数据进行训练，故需导入numpy，tenserflow，matplotlib等库。\n",
        "\n",
        "\n",
        "  代码如下：\n",
        "\n"
      ]
    },
    {
      "cell_type": "code",
      "metadata": {
        "id": "2GiCnSr-_PR-",
        "colab": {
          "base_uri": "https://localhost:8080/"
        },
        "outputId": "b789d9ea-83dc-4ccb-d1eb-4abe9ce3eb76"
      },
      "source": [
        "# TensorFlow and tf.keras\n",
        "import tensorflow as tf\n",
        "from tensorflow import keras\n",
        "\n",
        "# Helper libraries\n",
        "import numpy as np\n",
        "import matplotlib.pyplot as plt\n",
        "\n",
        "print(tf.__version__)"
      ],
      "execution_count": 47,
      "outputs": [
        {
          "output_type": "stream",
          "text": [
            "2.4.1\n"
          ],
          "name": "stdout"
        }
      ]
    },
    {
      "cell_type": "markdown",
      "metadata": {
        "id": "74j9LhAfsG7a"
      },
      "source": [
        "# 2. 数据预处理"
      ]
    },
    {
      "cell_type": "markdown",
      "metadata": {
        "id": "wHAtkGiUHPIG"
      },
      "source": [
        "# 2.1 导入数据\n",
        "  从文件中导入分析原始数据所需各个特征的数据，包括心率，心率变异性的指标等等。代码如下："
      ]
    },
    {
      "cell_type": "code",
      "metadata": {
        "id": "4mHwyMLs_Qum"
      },
      "source": [
        "cols = range(0,65)\n",
        "cols = tuple(cols)\n",
        "train_data = np.loadtxt(open(\"HRVdata1per0.5min.csv\",\"rb\"), delimiter = \",\", skiprows = 0, usecols = cols, max_rows=500)\n",
        "train_label = np.loadtxt(open(\"HRVdata1per0.5min.csv\",\"rb\"),dtype=int, delimiter = \",\", skiprows = 0, usecols = (67), max_rows=500)\n",
        "train_label = train_label - 1"
      ],
      "execution_count": 82,
      "outputs": []
    },
    {
      "cell_type": "markdown",
      "metadata": {
        "id": "URmSGOGp_RVf"
      },
      "source": [
        "# 2.2 浏览数据"
      ]
    },
    {
      "cell_type": "code",
      "metadata": {
        "colab": {
          "base_uri": "https://localhost:8080/"
        },
        "id": "w_APPwEZI7jZ",
        "outputId": "1dc42217-65d3-4e83-fd80-8a0fd0bf1ece"
      },
      "source": [
        "train_data[1]"
      ],
      "execution_count": 75,
      "outputs": [
        {
          "output_type": "execute_result",
          "data": {
            "text/plain": [
              "array([0.35947712, 0.2055709 , 0.21672185, 0.24643824, 0.17117117,\n",
              "       0.3661484 , 0.49289617, 0.56335616, 0.32483248, 0.24330717,\n",
              "       0.18741201, 0.15839162, 0.22636735, 0.24660221, 0.25068783,\n",
              "       0.21740027, 0.27433155, 0.25467035, 0.23892929, 0.59157423,\n",
              "       0.76030928, 0.15378255, 0.1277533 , 0.11863758, 0.11541325,\n",
              "       0.10787522, 0.31152997, 0.30092406, 0.22331975, 0.29108363,\n",
              "       0.24926058, 0.29131618, 0.5374675 , 0.62945662, 0.42225333,\n",
              "       0.22414981, 0.15913959, 0.15713361, 0.17294587, 0.2321269 ,\n",
              "       0.29872641, 0.28761129, 0.22281992, 0.23098267, 0.50557306,\n",
              "       0.19605915, 0.18880507, 0.69619539, 0.71262001, 0.51298485,\n",
              "       0.35856786, 0.36925207, 0.26350461, 0.51923077, 0.43478261,\n",
              "       0.50480769, 0.41538462, 0.48431372, 0.        , 0.        ,\n",
              "       0.52380952, 1.        , 0.64285714, 0.7635468 , 0.63736264])"
            ]
          },
          "metadata": {
            "tags": []
          },
          "execution_count": 75
        }
      ]
    },
    {
      "cell_type": "code",
      "metadata": {
        "colab": {
          "base_uri": "https://localhost:8080/"
        },
        "id": "2mUVSHy6d-U0",
        "outputId": "a2ea0c19-e452-4e08-f6a9-d15c658526c6"
      },
      "source": [
        "len(train_label)"
      ],
      "execution_count": 50,
      "outputs": [
        {
          "output_type": "execute_result",
          "data": {
            "text/plain": [
              "500"
            ]
          },
          "metadata": {
            "tags": []
          },
          "execution_count": 50
        }
      ]
    },
    {
      "cell_type": "code",
      "metadata": {
        "colab": {
          "base_uri": "https://localhost:8080/"
        },
        "id": "zzOkIHUweDNW",
        "outputId": "e71bf587-824e-4e98-d9ef-157f389cdc80"
      },
      "source": [
        "train_label"
      ],
      "execution_count": 83,
      "outputs": [
        {
          "output_type": "execute_result",
          "data": {
            "text/plain": [
              "array([1, 2, 2, 3, 4, 2, 2, 2, 3, 0, 1, 3, 3, 3, 4, 3, 3, 0, 3, 3, 1, 3,\n",
              "       2, 2, 0, 3, 2, 0, 2, 3, 3, 4, 2, 3, 2, 0, 2, 2, 4, 2, 2, 2, 2, 2,\n",
              "       3, 2, 0, 2, 0, 3, 2, 3, 1, 3, 2, 1, 2, 2, 2, 2, 2, 2, 3, 1, 2, 2,\n",
              "       2, 2, 3, 2, 1, 2, 2, 1, 1, 2, 2, 4, 1, 4, 2, 4, 3, 3, 4, 2, 3, 3,\n",
              "       0, 2, 3, 3, 3, 2, 2, 1, 2, 3, 4, 2, 4, 1, 0, 2, 3, 3, 2, 3, 3, 2,\n",
              "       1, 2, 2, 2, 3, 4, 2, 1, 2, 2, 2, 2, 4, 3, 4, 3, 4, 2, 3, 2, 0, 2,\n",
              "       2, 2, 4, 2, 3, 2, 4, 2, 4, 2, 2, 2, 2, 1, 2, 4, 0, 4, 2, 3, 2, 2,\n",
              "       3, 4, 3, 4, 3, 2, 4, 2, 1, 2, 2, 0, 3, 3, 1, 2, 3, 2, 3, 0, 4, 3,\n",
              "       2, 1, 2, 2, 2, 2, 2, 3, 2, 2, 1, 4, 2, 2, 3, 4, 2, 2, 2, 3, 2, 4,\n",
              "       2, 2, 2, 2, 2, 2, 2, 0, 2, 2, 1, 4, 3, 3, 2, 4, 4, 4, 2, 4, 3, 0,\n",
              "       4, 0, 2, 2, 2, 2, 2, 2, 2, 3, 2, 3, 4, 2, 2, 1, 2, 1, 2, 3, 0, 2,\n",
              "       2, 3, 2, 2, 1, 3, 4, 4, 2, 2, 1, 3, 2, 3, 2, 2, 2, 3, 2, 3, 3, 2,\n",
              "       2, 2, 2, 0, 1, 2, 1, 4, 4, 2, 2, 4, 3, 2, 3, 2, 2, 0, 2, 1, 2, 2,\n",
              "       3, 2, 2, 4, 2, 2, 2, 2, 2, 1, 2, 3, 1, 3, 4, 2, 3, 2, 3, 3, 2, 2,\n",
              "       3, 4, 2, 2, 2, 1, 3, 1, 3, 3, 4, 2, 3, 2, 4, 2, 2, 1, 4, 2, 4, 3,\n",
              "       4, 3, 2, 1, 2, 3, 2, 3, 3, 3, 2, 2, 2, 2, 4, 3, 1, 3, 3, 3, 2, 2,\n",
              "       2, 2, 3, 4, 3, 2, 0, 2, 3, 3, 2, 2, 2, 2, 2, 3, 2, 3, 1, 1, 4, 4,\n",
              "       4, 2, 2, 2, 2, 2, 1, 2, 0, 4, 1, 2, 3, 3, 3, 0, 2, 2, 3, 2, 2, 2,\n",
              "       4, 3, 2, 1, 4, 1, 3, 3, 2, 2, 2, 1, 2, 2, 3, 2, 2, 3, 3, 2, 1, 0,\n",
              "       2, 2, 2, 1, 3, 2, 2, 4, 2, 2, 4, 2, 3, 2, 2, 3, 2, 2, 1, 1, 2, 2,\n",
              "       3, 2, 0, 4, 2, 3, 2, 4, 3, 3, 2, 4, 2, 1, 4, 2, 3, 3, 2, 3, 2, 2,\n",
              "       2, 2, 3, 2, 2, 2, 3, 2, 2, 4, 1, 2, 2, 4, 2, 4, 2, 4, 4, 3, 2, 0,\n",
              "       2, 4, 2, 3, 0, 1, 4, 1, 0, 1, 0, 2, 2, 2, 3, 4])"
            ]
          },
          "metadata": {
            "tags": []
          },
          "execution_count": 83
        }
      ]
    },
    {
      "cell_type": "markdown",
      "metadata": {
        "id": "3hGPB5MusQML"
      },
      "source": [
        "# 3. 模型搭建"
      ]
    },
    {
      "cell_type": "code",
      "metadata": {
        "id": "O5sIgxQ_eZHK"
      },
      "source": [
        "model = keras.Sequential([\n",
        "    keras.layers.Dense(48, activation='relu'),\n",
        "    keras.layers.Dense(48, activation='relu'),\n",
        "    keras.layers.Dense(5)\n",
        "])"
      ],
      "execution_count": 123,
      "outputs": []
    },
    {
      "cell_type": "code",
      "metadata": {
        "id": "VzfiTRQdgIpN"
      },
      "source": [
        "model.compile(optimizer='adam',\n",
        "              loss=tf.keras.losses.SparseCategoricalCrossentropy(from_logits=True),\n",
        "              metrics=['accuracy'])"
      ],
      "execution_count": 124,
      "outputs": []
    },
    {
      "cell_type": "markdown",
      "metadata": {
        "id": "8KRSsizQsTyp"
      },
      "source": [
        "# 4. 模型训练"
      ]
    },
    {
      "cell_type": "code",
      "metadata": {
        "id": "xI3jJ-I3ia9k",
        "colab": {
          "base_uri": "https://localhost:8080/"
        },
        "outputId": "3aab45bd-594c-4587-92ac-080cfb581f81"
      },
      "source": [
        "model.fit(train_data,train_label,epochs=200)"
      ],
      "execution_count": 126,
      "outputs": [
        {
          "output_type": "stream",
          "text": [
            "Epoch 1/200\n",
            "16/16 [==============================] - 0s 2ms/step - loss: 0.0733 - accuracy: 0.9840\n",
            "Epoch 2/200\n",
            "16/16 [==============================] - 0s 2ms/step - loss: 0.0729 - accuracy: 0.9820\n",
            "Epoch 3/200\n",
            "16/16 [==============================] - 0s 2ms/step - loss: 0.0635 - accuracy: 0.9880\n",
            "Epoch 4/200\n",
            "16/16 [==============================] - 0s 2ms/step - loss: 0.0614 - accuracy: 0.9840\n",
            "Epoch 5/200\n",
            "16/16 [==============================] - 0s 2ms/step - loss: 0.0625 - accuracy: 0.9900\n",
            "Epoch 6/200\n",
            "16/16 [==============================] - 0s 2ms/step - loss: 0.0689 - accuracy: 0.9860\n",
            "Epoch 7/200\n",
            "16/16 [==============================] - 0s 2ms/step - loss: 0.0677 - accuracy: 0.9880\n",
            "Epoch 8/200\n",
            "16/16 [==============================] - 0s 2ms/step - loss: 0.0629 - accuracy: 0.9900\n",
            "Epoch 9/200\n",
            "16/16 [==============================] - 0s 2ms/step - loss: 0.0620 - accuracy: 0.9860\n",
            "Epoch 10/200\n",
            "16/16 [==============================] - 0s 2ms/step - loss: 0.0617 - accuracy: 0.9820\n",
            "Epoch 11/200\n",
            "16/16 [==============================] - 0s 2ms/step - loss: 0.0585 - accuracy: 0.9880\n",
            "Epoch 12/200\n",
            "16/16 [==============================] - 0s 2ms/step - loss: 0.0592 - accuracy: 0.9900\n",
            "Epoch 13/200\n",
            "16/16 [==============================] - 0s 2ms/step - loss: 0.0591 - accuracy: 0.9920\n",
            "Epoch 14/200\n",
            "16/16 [==============================] - 0s 2ms/step - loss: 0.0575 - accuracy: 0.9840\n",
            "Epoch 15/200\n",
            "16/16 [==============================] - 0s 2ms/step - loss: 0.0682 - accuracy: 0.9840\n",
            "Epoch 16/200\n",
            "16/16 [==============================] - 0s 2ms/step - loss: 0.0595 - accuracy: 0.9880\n",
            "Epoch 17/200\n",
            "16/16 [==============================] - 0s 2ms/step - loss: 0.0541 - accuracy: 0.9880\n",
            "Epoch 18/200\n",
            "16/16 [==============================] - 0s 2ms/step - loss: 0.0547 - accuracy: 0.9940\n",
            "Epoch 19/200\n",
            "16/16 [==============================] - 0s 2ms/step - loss: 0.0562 - accuracy: 0.9860\n",
            "Epoch 20/200\n",
            "16/16 [==============================] - 0s 2ms/step - loss: 0.0562 - accuracy: 0.9840\n",
            "Epoch 21/200\n",
            "16/16 [==============================] - 0s 2ms/step - loss: 0.0546 - accuracy: 0.9920\n",
            "Epoch 22/200\n",
            "16/16 [==============================] - 0s 2ms/step - loss: 0.0542 - accuracy: 0.9880\n",
            "Epoch 23/200\n",
            "16/16 [==============================] - 0s 2ms/step - loss: 0.0855 - accuracy: 0.9660\n",
            "Epoch 24/200\n",
            "16/16 [==============================] - 0s 3ms/step - loss: 0.0758 - accuracy: 0.9780\n",
            "Epoch 25/200\n",
            "16/16 [==============================] - 0s 2ms/step - loss: 0.0716 - accuracy: 0.9760\n",
            "Epoch 26/200\n",
            "16/16 [==============================] - 0s 2ms/step - loss: 0.0520 - accuracy: 0.9900\n",
            "Epoch 27/200\n",
            "16/16 [==============================] - 0s 2ms/step - loss: 0.0588 - accuracy: 0.9900\n",
            "Epoch 28/200\n",
            "16/16 [==============================] - 0s 2ms/step - loss: 0.0556 - accuracy: 0.9900\n",
            "Epoch 29/200\n",
            "16/16 [==============================] - 0s 2ms/step - loss: 0.0491 - accuracy: 0.9920\n",
            "Epoch 30/200\n",
            "16/16 [==============================] - 0s 2ms/step - loss: 0.0481 - accuracy: 0.9920\n",
            "Epoch 31/200\n",
            "16/16 [==============================] - 0s 2ms/step - loss: 0.0496 - accuracy: 0.9920\n",
            "Epoch 32/200\n",
            "16/16 [==============================] - 0s 2ms/step - loss: 0.0498 - accuracy: 0.9880\n",
            "Epoch 33/200\n",
            "16/16 [==============================] - 0s 2ms/step - loss: 0.0462 - accuracy: 0.9940\n",
            "Epoch 34/200\n",
            "16/16 [==============================] - 0s 2ms/step - loss: 0.0593 - accuracy: 0.9880\n",
            "Epoch 35/200\n",
            "16/16 [==============================] - 0s 2ms/step - loss: 0.0555 - accuracy: 0.9880\n",
            "Epoch 36/200\n",
            "16/16 [==============================] - 0s 2ms/step - loss: 0.0548 - accuracy: 0.9900\n",
            "Epoch 37/200\n",
            "16/16 [==============================] - 0s 2ms/step - loss: 0.0477 - accuracy: 0.9860\n",
            "Epoch 38/200\n",
            "16/16 [==============================] - 0s 2ms/step - loss: 0.0539 - accuracy: 0.9960\n",
            "Epoch 39/200\n",
            "16/16 [==============================] - 0s 2ms/step - loss: 0.0466 - accuracy: 0.9920\n",
            "Epoch 40/200\n",
            "16/16 [==============================] - 0s 2ms/step - loss: 0.0542 - accuracy: 0.9880\n",
            "Epoch 41/200\n",
            "16/16 [==============================] - 0s 3ms/step - loss: 0.0521 - accuracy: 0.9920\n",
            "Epoch 42/200\n",
            "16/16 [==============================] - 0s 2ms/step - loss: 0.0531 - accuracy: 0.9920\n",
            "Epoch 43/200\n",
            "16/16 [==============================] - 0s 2ms/step - loss: 0.0463 - accuracy: 0.9920\n",
            "Epoch 44/200\n",
            "16/16 [==============================] - 0s 2ms/step - loss: 0.0436 - accuracy: 0.9940\n",
            "Epoch 45/200\n",
            "16/16 [==============================] - 0s 2ms/step - loss: 0.0447 - accuracy: 0.9920\n",
            "Epoch 46/200\n",
            "16/16 [==============================] - 0s 2ms/step - loss: 0.0530 - accuracy: 0.9900\n",
            "Epoch 47/200\n",
            "16/16 [==============================] - 0s 2ms/step - loss: 0.0494 - accuracy: 0.9920\n",
            "Epoch 48/200\n",
            "16/16 [==============================] - 0s 2ms/step - loss: 0.0462 - accuracy: 0.9940\n",
            "Epoch 49/200\n",
            "16/16 [==============================] - 0s 2ms/step - loss: 0.0455 - accuracy: 0.9940\n",
            "Epoch 50/200\n",
            "16/16 [==============================] - 0s 2ms/step - loss: 0.0425 - accuracy: 0.9920\n",
            "Epoch 51/200\n",
            "16/16 [==============================] - 0s 3ms/step - loss: 0.0469 - accuracy: 0.9900\n",
            "Epoch 52/200\n",
            "16/16 [==============================] - 0s 3ms/step - loss: 0.0440 - accuracy: 0.9960\n",
            "Epoch 53/200\n",
            "16/16 [==============================] - 0s 2ms/step - loss: 0.0476 - accuracy: 0.9920\n",
            "Epoch 54/200\n",
            "16/16 [==============================] - 0s 2ms/step - loss: 0.0529 - accuracy: 0.9920\n",
            "Epoch 55/200\n",
            "16/16 [==============================] - 0s 2ms/step - loss: 0.0488 - accuracy: 0.9880\n",
            "Epoch 56/200\n",
            "16/16 [==============================] - 0s 2ms/step - loss: 0.0546 - accuracy: 0.9760\n",
            "Epoch 57/200\n",
            "16/16 [==============================] - 0s 2ms/step - loss: 0.0397 - accuracy: 0.9920\n",
            "Epoch 58/200\n",
            "16/16 [==============================] - 0s 2ms/step - loss: 0.0404 - accuracy: 0.9920\n",
            "Epoch 59/200\n",
            "16/16 [==============================] - 0s 3ms/step - loss: 0.0586 - accuracy: 0.9820\n",
            "Epoch 60/200\n",
            "16/16 [==============================] - 0s 2ms/step - loss: 0.0543 - accuracy: 0.9900\n",
            "Epoch 61/200\n",
            "16/16 [==============================] - 0s 2ms/step - loss: 0.0510 - accuracy: 0.9880\n",
            "Epoch 62/200\n",
            "16/16 [==============================] - 0s 2ms/step - loss: 0.0420 - accuracy: 0.9900\n",
            "Epoch 63/200\n",
            "16/16 [==============================] - 0s 3ms/step - loss: 0.0412 - accuracy: 0.9940\n",
            "Epoch 64/200\n",
            "16/16 [==============================] - 0s 2ms/step - loss: 0.0372 - accuracy: 0.9960\n",
            "Epoch 65/200\n",
            "16/16 [==============================] - 0s 3ms/step - loss: 0.0383 - accuracy: 0.9900\n",
            "Epoch 66/200\n",
            "16/16 [==============================] - 0s 2ms/step - loss: 0.0361 - accuracy: 0.9940\n",
            "Epoch 67/200\n",
            "16/16 [==============================] - 0s 2ms/step - loss: 0.0393 - accuracy: 0.9940\n",
            "Epoch 68/200\n",
            "16/16 [==============================] - 0s 2ms/step - loss: 0.0393 - accuracy: 0.9900\n",
            "Epoch 69/200\n",
            "16/16 [==============================] - 0s 2ms/step - loss: 0.0422 - accuracy: 0.9860\n",
            "Epoch 70/200\n",
            "16/16 [==============================] - 0s 2ms/step - loss: 0.0374 - accuracy: 0.9940\n",
            "Epoch 71/200\n",
            "16/16 [==============================] - 0s 2ms/step - loss: 0.0345 - accuracy: 0.9940\n",
            "Epoch 72/200\n",
            "16/16 [==============================] - 0s 2ms/step - loss: 0.0370 - accuracy: 0.9920\n",
            "Epoch 73/200\n",
            "16/16 [==============================] - 0s 2ms/step - loss: 0.0433 - accuracy: 0.9960\n",
            "Epoch 74/200\n",
            "16/16 [==============================] - 0s 2ms/step - loss: 0.0362 - accuracy: 0.9960\n",
            "Epoch 75/200\n",
            "16/16 [==============================] - 0s 2ms/step - loss: 0.0332 - accuracy: 0.9960\n",
            "Epoch 76/200\n",
            "16/16 [==============================] - 0s 2ms/step - loss: 0.0381 - accuracy: 0.9960\n",
            "Epoch 77/200\n",
            "16/16 [==============================] - 0s 2ms/step - loss: 0.0386 - accuracy: 0.9960\n",
            "Epoch 78/200\n",
            "16/16 [==============================] - 0s 2ms/step - loss: 0.0333 - accuracy: 0.9960\n",
            "Epoch 79/200\n",
            "16/16 [==============================] - 0s 2ms/step - loss: 0.0329 - accuracy: 0.9980\n",
            "Epoch 80/200\n",
            "16/16 [==============================] - 0s 2ms/step - loss: 0.0315 - accuracy: 0.9940\n",
            "Epoch 81/200\n",
            "16/16 [==============================] - 0s 2ms/step - loss: 0.0343 - accuracy: 0.9960\n",
            "Epoch 82/200\n",
            "16/16 [==============================] - 0s 2ms/step - loss: 0.0335 - accuracy: 0.9940\n",
            "Epoch 83/200\n",
            "16/16 [==============================] - 0s 2ms/step - loss: 0.0402 - accuracy: 0.9940\n",
            "Epoch 84/200\n",
            "16/16 [==============================] - 0s 2ms/step - loss: 0.0343 - accuracy: 0.9960\n",
            "Epoch 85/200\n",
            "16/16 [==============================] - 0s 2ms/step - loss: 0.0338 - accuracy: 0.9940\n",
            "Epoch 86/200\n",
            "16/16 [==============================] - 0s 2ms/step - loss: 0.0317 - accuracy: 0.9940\n",
            "Epoch 87/200\n",
            "16/16 [==============================] - 0s 2ms/step - loss: 0.0309 - accuracy: 0.9960\n",
            "Epoch 88/200\n",
            "16/16 [==============================] - 0s 2ms/step - loss: 0.0315 - accuracy: 0.9960\n",
            "Epoch 89/200\n",
            "16/16 [==============================] - 0s 2ms/step - loss: 0.0356 - accuracy: 0.9940\n",
            "Epoch 90/200\n",
            "16/16 [==============================] - 0s 2ms/step - loss: 0.0361 - accuracy: 0.9920\n",
            "Epoch 91/200\n",
            "16/16 [==============================] - 0s 2ms/step - loss: 0.0303 - accuracy: 0.9960\n",
            "Epoch 92/200\n",
            "16/16 [==============================] - 0s 2ms/step - loss: 0.0286 - accuracy: 0.9960\n",
            "Epoch 93/200\n",
            "16/16 [==============================] - 0s 2ms/step - loss: 0.0355 - accuracy: 0.9920\n",
            "Epoch 94/200\n",
            "16/16 [==============================] - 0s 2ms/step - loss: 0.0345 - accuracy: 0.9960\n",
            "Epoch 95/200\n",
            "16/16 [==============================] - 0s 2ms/step - loss: 0.0349 - accuracy: 0.9940\n",
            "Epoch 96/200\n",
            "16/16 [==============================] - 0s 2ms/step - loss: 0.0320 - accuracy: 0.9980\n",
            "Epoch 97/200\n",
            "16/16 [==============================] - 0s 2ms/step - loss: 0.0287 - accuracy: 0.9940\n",
            "Epoch 98/200\n",
            "16/16 [==============================] - 0s 2ms/step - loss: 0.0316 - accuracy: 0.9960\n",
            "Epoch 99/200\n",
            "16/16 [==============================] - 0s 2ms/step - loss: 0.0335 - accuracy: 0.9940\n",
            "Epoch 100/200\n",
            "16/16 [==============================] - 0s 2ms/step - loss: 0.0281 - accuracy: 0.9980\n",
            "Epoch 101/200\n",
            "16/16 [==============================] - 0s 3ms/step - loss: 0.0256 - accuracy: 0.9980\n",
            "Epoch 102/200\n",
            "16/16 [==============================] - 0s 2ms/step - loss: 0.0243 - accuracy: 0.9980\n",
            "Epoch 103/200\n",
            "16/16 [==============================] - 0s 2ms/step - loss: 0.0313 - accuracy: 0.9940\n",
            "Epoch 104/200\n",
            "16/16 [==============================] - 0s 2ms/step - loss: 0.0264 - accuracy: 0.9980\n",
            "Epoch 105/200\n",
            "16/16 [==============================] - 0s 2ms/step - loss: 0.0313 - accuracy: 0.9940\n",
            "Epoch 106/200\n",
            "16/16 [==============================] - 0s 3ms/step - loss: 0.0339 - accuracy: 0.9900\n",
            "Epoch 107/200\n",
            "16/16 [==============================] - 0s 2ms/step - loss: 0.0398 - accuracy: 0.9880\n",
            "Epoch 108/200\n",
            "16/16 [==============================] - 0s 2ms/step - loss: 0.0277 - accuracy: 0.9960\n",
            "Epoch 109/200\n",
            "16/16 [==============================] - 0s 2ms/step - loss: 0.0262 - accuracy: 0.9960\n",
            "Epoch 110/200\n",
            "16/16 [==============================] - 0s 2ms/step - loss: 0.0254 - accuracy: 0.9960\n",
            "Epoch 111/200\n",
            "16/16 [==============================] - 0s 2ms/step - loss: 0.0240 - accuracy: 0.9960\n",
            "Epoch 112/200\n",
            "16/16 [==============================] - 0s 3ms/step - loss: 0.0288 - accuracy: 0.9980\n",
            "Epoch 113/200\n",
            "16/16 [==============================] - 0s 2ms/step - loss: 0.0270 - accuracy: 0.9980\n",
            "Epoch 114/200\n",
            "16/16 [==============================] - 0s 2ms/step - loss: 0.0240 - accuracy: 0.9960\n",
            "Epoch 115/200\n",
            "16/16 [==============================] - 0s 2ms/step - loss: 0.0258 - accuracy: 0.9960\n",
            "Epoch 116/200\n",
            "16/16 [==============================] - 0s 2ms/step - loss: 0.0278 - accuracy: 0.9960\n",
            "Epoch 117/200\n",
            "16/16 [==============================] - 0s 2ms/step - loss: 0.0229 - accuracy: 0.9960\n",
            "Epoch 118/200\n",
            "16/16 [==============================] - 0s 2ms/step - loss: 0.0231 - accuracy: 0.9980\n",
            "Epoch 119/200\n",
            "16/16 [==============================] - 0s 2ms/step - loss: 0.0240 - accuracy: 0.9960\n",
            "Epoch 120/200\n",
            "16/16 [==============================] - 0s 2ms/step - loss: 0.0240 - accuracy: 0.9960\n",
            "Epoch 121/200\n",
            "16/16 [==============================] - 0s 2ms/step - loss: 0.0263 - accuracy: 0.9960\n",
            "Epoch 122/200\n",
            "16/16 [==============================] - 0s 2ms/step - loss: 0.0229 - accuracy: 0.9980\n",
            "Epoch 123/200\n",
            "16/16 [==============================] - 0s 2ms/step - loss: 0.0205 - accuracy: 0.9980\n",
            "Epoch 124/200\n",
            "16/16 [==============================] - 0s 2ms/step - loss: 0.0211 - accuracy: 0.9960\n",
            "Epoch 125/200\n",
            "16/16 [==============================] - 0s 3ms/step - loss: 0.0226 - accuracy: 0.9980\n",
            "Epoch 126/200\n",
            "16/16 [==============================] - 0s 2ms/step - loss: 0.0247 - accuracy: 0.9980\n",
            "Epoch 127/200\n",
            "16/16 [==============================] - 0s 2ms/step - loss: 0.0273 - accuracy: 0.9960\n",
            "Epoch 128/200\n",
            "16/16 [==============================] - 0s 2ms/step - loss: 0.0250 - accuracy: 0.9960\n",
            "Epoch 129/200\n",
            "16/16 [==============================] - 0s 2ms/step - loss: 0.0314 - accuracy: 0.9920\n",
            "Epoch 130/200\n",
            "16/16 [==============================] - 0s 2ms/step - loss: 0.0316 - accuracy: 0.9900\n",
            "Epoch 131/200\n",
            "16/16 [==============================] - 0s 2ms/step - loss: 0.0609 - accuracy: 0.9760\n",
            "Epoch 132/200\n",
            "16/16 [==============================] - 0s 2ms/step - loss: 0.0387 - accuracy: 0.9860\n",
            "Epoch 133/200\n",
            "16/16 [==============================] - 0s 2ms/step - loss: 0.0276 - accuracy: 0.9960\n",
            "Epoch 134/200\n",
            "16/16 [==============================] - 0s 2ms/step - loss: 0.0273 - accuracy: 0.9960\n",
            "Epoch 135/200\n",
            "16/16 [==============================] - 0s 2ms/step - loss: 0.0547 - accuracy: 0.9860\n",
            "Epoch 136/200\n",
            "16/16 [==============================] - 0s 2ms/step - loss: 0.0256 - accuracy: 0.9960\n",
            "Epoch 137/200\n",
            "16/16 [==============================] - 0s 2ms/step - loss: 0.0191 - accuracy: 0.9980\n",
            "Epoch 138/200\n",
            "16/16 [==============================] - 0s 3ms/step - loss: 0.0213 - accuracy: 0.9980\n",
            "Epoch 139/200\n",
            "16/16 [==============================] - 0s 2ms/step - loss: 0.0364 - accuracy: 0.9860\n",
            "Epoch 140/200\n",
            "16/16 [==============================] - 0s 2ms/step - loss: 0.0235 - accuracy: 0.9980\n",
            "Epoch 141/200\n",
            "16/16 [==============================] - 0s 2ms/step - loss: 0.0258 - accuracy: 0.9940\n",
            "Epoch 142/200\n",
            "16/16 [==============================] - 0s 2ms/step - loss: 0.0263 - accuracy: 0.9940\n",
            "Epoch 143/200\n",
            "16/16 [==============================] - 0s 2ms/step - loss: 0.0335 - accuracy: 0.9940\n",
            "Epoch 144/200\n",
            "16/16 [==============================] - 0s 2ms/step - loss: 0.0368 - accuracy: 0.9880\n",
            "Epoch 145/200\n",
            "16/16 [==============================] - 0s 2ms/step - loss: 0.0190 - accuracy: 0.9980\n",
            "Epoch 146/200\n",
            "16/16 [==============================] - 0s 2ms/step - loss: 0.0177 - accuracy: 0.9980\n",
            "Epoch 147/200\n",
            "16/16 [==============================] - 0s 2ms/step - loss: 0.0177 - accuracy: 0.9960\n",
            "Epoch 148/200\n",
            "16/16 [==============================] - 0s 2ms/step - loss: 0.0175 - accuracy: 0.9980\n",
            "Epoch 149/200\n",
            "16/16 [==============================] - 0s 2ms/step - loss: 0.0171 - accuracy: 0.9980\n",
            "Epoch 150/200\n",
            "16/16 [==============================] - 0s 3ms/step - loss: 0.0218 - accuracy: 0.9960\n",
            "Epoch 151/200\n",
            "16/16 [==============================] - 0s 2ms/step - loss: 0.0166 - accuracy: 0.9980\n",
            "Epoch 152/200\n",
            "16/16 [==============================] - 0s 2ms/step - loss: 0.0220 - accuracy: 0.9960\n",
            "Epoch 153/200\n",
            "16/16 [==============================] - 0s 2ms/step - loss: 0.0305 - accuracy: 0.9920\n",
            "Epoch 154/200\n",
            "16/16 [==============================] - 0s 2ms/step - loss: 0.0224 - accuracy: 0.9960\n",
            "Epoch 155/200\n",
            "16/16 [==============================] - 0s 2ms/step - loss: 0.0167 - accuracy: 1.0000\n",
            "Epoch 156/200\n",
            "16/16 [==============================] - 0s 2ms/step - loss: 0.0170 - accuracy: 0.9960\n",
            "Epoch 157/200\n",
            "16/16 [==============================] - 0s 2ms/step - loss: 0.0155 - accuracy: 0.9980\n",
            "Epoch 158/200\n",
            "16/16 [==============================] - 0s 2ms/step - loss: 0.0170 - accuracy: 0.9960\n",
            "Epoch 159/200\n",
            "16/16 [==============================] - 0s 2ms/step - loss: 0.0199 - accuracy: 0.9980\n",
            "Epoch 160/200\n",
            "16/16 [==============================] - 0s 2ms/step - loss: 0.0160 - accuracy: 0.9960\n",
            "Epoch 161/200\n",
            "16/16 [==============================] - 0s 2ms/step - loss: 0.0175 - accuracy: 0.9980\n",
            "Epoch 162/200\n",
            "16/16 [==============================] - 0s 2ms/step - loss: 0.0164 - accuracy: 0.9980\n",
            "Epoch 163/200\n",
            "16/16 [==============================] - 0s 2ms/step - loss: 0.0143 - accuracy: 1.0000\n",
            "Epoch 164/200\n",
            "16/16 [==============================] - 0s 2ms/step - loss: 0.0143 - accuracy: 0.9980\n",
            "Epoch 165/200\n",
            "16/16 [==============================] - 0s 2ms/step - loss: 0.0154 - accuracy: 0.9980\n",
            "Epoch 166/200\n",
            "16/16 [==============================] - 0s 2ms/step - loss: 0.0197 - accuracy: 0.9980\n",
            "Epoch 167/200\n",
            "16/16 [==============================] - 0s 2ms/step - loss: 0.0198 - accuracy: 0.9960\n",
            "Epoch 168/200\n",
            "16/16 [==============================] - 0s 2ms/step - loss: 0.0157 - accuracy: 0.9980\n",
            "Epoch 169/200\n",
            "16/16 [==============================] - 0s 2ms/step - loss: 0.0150 - accuracy: 0.9980\n",
            "Epoch 170/200\n",
            "16/16 [==============================] - 0s 2ms/step - loss: 0.0140 - accuracy: 0.9980\n",
            "Epoch 171/200\n",
            "16/16 [==============================] - 0s 2ms/step - loss: 0.0160 - accuracy: 0.9980\n",
            "Epoch 172/200\n",
            "16/16 [==============================] - 0s 2ms/step - loss: 0.0226 - accuracy: 0.9960\n",
            "Epoch 173/200\n",
            "16/16 [==============================] - 0s 2ms/step - loss: 0.0177 - accuracy: 0.9980\n",
            "Epoch 174/200\n",
            "16/16 [==============================] - 0s 2ms/step - loss: 0.0237 - accuracy: 0.9940\n",
            "Epoch 175/200\n",
            "16/16 [==============================] - 0s 2ms/step - loss: 0.0307 - accuracy: 0.9860\n",
            "Epoch 176/200\n",
            "16/16 [==============================] - 0s 3ms/step - loss: 0.0180 - accuracy: 0.9960\n",
            "Epoch 177/200\n",
            "16/16 [==============================] - 0s 2ms/step - loss: 0.0170 - accuracy: 1.0000\n",
            "Epoch 178/200\n",
            "16/16 [==============================] - 0s 2ms/step - loss: 0.0156 - accuracy: 0.9980\n",
            "Epoch 179/200\n",
            "16/16 [==============================] - 0s 2ms/step - loss: 0.0175 - accuracy: 0.9980\n",
            "Epoch 180/200\n",
            "16/16 [==============================] - 0s 2ms/step - loss: 0.0161 - accuracy: 1.0000\n",
            "Epoch 181/200\n",
            "16/16 [==============================] - 0s 2ms/step - loss: 0.0138 - accuracy: 0.9980\n",
            "Epoch 182/200\n",
            "16/16 [==============================] - 0s 2ms/step - loss: 0.0113 - accuracy: 0.9980\n",
            "Epoch 183/200\n",
            "16/16 [==============================] - 0s 2ms/step - loss: 0.0131 - accuracy: 1.0000\n",
            "Epoch 184/200\n",
            "16/16 [==============================] - 0s 3ms/step - loss: 0.0131 - accuracy: 1.0000\n",
            "Epoch 185/200\n",
            "16/16 [==============================] - 0s 3ms/step - loss: 0.0127 - accuracy: 0.9980\n",
            "Epoch 186/200\n",
            "16/16 [==============================] - 0s 2ms/step - loss: 0.0112 - accuracy: 1.0000\n",
            "Epoch 187/200\n",
            "16/16 [==============================] - 0s 2ms/step - loss: 0.0113 - accuracy: 0.9980\n",
            "Epoch 188/200\n",
            "16/16 [==============================] - 0s 2ms/step - loss: 0.0133 - accuracy: 1.0000\n",
            "Epoch 189/200\n",
            "16/16 [==============================] - 0s 3ms/step - loss: 0.0121 - accuracy: 1.0000\n",
            "Epoch 190/200\n",
            "16/16 [==============================] - 0s 3ms/step - loss: 0.0165 - accuracy: 0.9960\n",
            "Epoch 191/200\n",
            "16/16 [==============================] - 0s 3ms/step - loss: 0.0112 - accuracy: 0.9980\n",
            "Epoch 192/200\n",
            "16/16 [==============================] - 0s 2ms/step - loss: 0.0115 - accuracy: 0.9980\n",
            "Epoch 193/200\n",
            "16/16 [==============================] - 0s 2ms/step - loss: 0.0209 - accuracy: 0.9960\n",
            "Epoch 194/200\n",
            "16/16 [==============================] - 0s 2ms/step - loss: 0.0144 - accuracy: 1.0000\n",
            "Epoch 195/200\n",
            "16/16 [==============================] - 0s 2ms/step - loss: 0.0120 - accuracy: 1.0000\n",
            "Epoch 196/200\n",
            "16/16 [==============================] - 0s 2ms/step - loss: 0.0099 - accuracy: 1.0000\n",
            "Epoch 197/200\n",
            "16/16 [==============================] - 0s 2ms/step - loss: 0.0103 - accuracy: 1.0000\n",
            "Epoch 198/200\n",
            "16/16 [==============================] - 0s 2ms/step - loss: 0.0111 - accuracy: 0.9980\n",
            "Epoch 199/200\n",
            "16/16 [==============================] - 0s 2ms/step - loss: 0.0105 - accuracy: 1.0000\n",
            "Epoch 200/200\n",
            "16/16 [==============================] - 0s 2ms/step - loss: 0.0134 - accuracy: 0.9960\n"
          ],
          "name": "stdout"
        },
        {
          "output_type": "execute_result",
          "data": {
            "text/plain": [
              "<tensorflow.python.keras.callbacks.History at 0x7f62a09a2b90>"
            ]
          },
          "metadata": {
            "tags": []
          },
          "execution_count": 126
        }
      ]
    },
    {
      "cell_type": "markdown",
      "metadata": {
        "id": "2KL_AhQusXdh"
      },
      "source": [
        "# 5. 模型检验"
      ]
    },
    {
      "cell_type": "code",
      "metadata": {
        "id": "EH_rMvIqs_1q"
      },
      "source": [
        "test_data = np.loadtxt(open(\"HRVdata1per0.5mintest.csv\",\"rb\"), delimiter = \",\", skiprows = 0, usecols = cols, max_rows=549)\n",
        "test_label = np.loadtxt(open(\"HRVdata1per0.5mintest.csv\",\"rb\"),dtype=int, delimiter = \",\", skiprows = 0, usecols = (67), max_rows=549)\n",
        "test_label = test_label - 1"
      ],
      "execution_count": 101,
      "outputs": []
    },
    {
      "cell_type": "code",
      "metadata": {
        "colab": {
          "base_uri": "https://localhost:8080/"
        },
        "id": "OWhstlXKsHk0",
        "outputId": "79a82397-8e71-4a26-8edf-580c61db074b"
      },
      "source": [
        "test_loss, test_acc = model.evaluate(test_data,  test_label, verbose=2)\n"
      ],
      "execution_count": 127,
      "outputs": [
        {
          "output_type": "stream",
          "text": [
            "18/18 - 0s - loss: 1.1274 - accuracy: 0.8124\n"
          ],
          "name": "stdout"
        }
      ]
    },
    {
      "cell_type": "code",
      "metadata": {
        "id": "-ywRsQXMtRnj"
      },
      "source": [
        "probability_model = tf.keras.Sequential([model, \n",
        "                        tf.keras.layers.Softmax()])"
      ],
      "execution_count": 128,
      "outputs": []
    },
    {
      "cell_type": "code",
      "metadata": {
        "id": "IkFtcft5tWsb"
      },
      "source": [
        "predictions = probability_model.predict(test_data)"
      ],
      "execution_count": 129,
      "outputs": []
    },
    {
      "cell_type": "code",
      "metadata": {
        "colab": {
          "base_uri": "https://localhost:8080/"
        },
        "id": "EMOIKX2ftkHg",
        "outputId": "ddda995b-637f-475a-a7cc-49d9a2ade389"
      },
      "source": [
        "predictions[3]"
      ],
      "execution_count": 130,
      "outputs": [
        {
          "output_type": "execute_result",
          "data": {
            "text/plain": [
              "array([1.6260089e-17, 2.3017149e-07, 9.9999976e-01, 1.6574025e-13,\n",
              "       2.0236450e-19], dtype=float32)"
            ]
          },
          "metadata": {
            "tags": []
          },
          "execution_count": 130
        }
      ]
    },
    {
      "cell_type": "code",
      "metadata": {
        "colab": {
          "base_uri": "https://localhost:8080/"
        },
        "id": "nI995QoNtcEI",
        "outputId": "fccfd863-7a0f-4e39-831b-aba4eef3b3dd"
      },
      "source": [
        "np.argmax(predictions[3])"
      ],
      "execution_count": 131,
      "outputs": [
        {
          "output_type": "execute_result",
          "data": {
            "text/plain": [
              "2"
            ]
          },
          "metadata": {
            "tags": []
          },
          "execution_count": 131
        }
      ]
    }
  ]
}