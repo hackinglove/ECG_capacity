{
  "nbformat": 4,
  "nbformat_minor": 0,
  "metadata": {
    "colab": {
      "name": "ECG001.ipynb",
      "provenance": [],
      "toc_visible": true,
      "authorship_tag": "ABX9TyPmV7+R3K8vke2UUjevaPpT",
      "include_colab_link": true
    },
    "kernelspec": {
      "name": "python3",
      "display_name": "Python 3"
    },
    "accelerator": "GPU"
  },
  "cells": [
    {
      "cell_type": "markdown",
      "metadata": {
        "id": "view-in-github",
        "colab_type": "text"
      },
      "source": [
        "<a href=\"https://colab.research.google.com/github/hackinglove/ECG_capacity/blob/main/ECG001.ipynb\" target=\"_parent\"><img src=\"https://colab.research.google.com/assets/colab-badge.svg\" alt=\"Open In Colab\"/></a>"
      ]
    },
    {
      "cell_type": "markdown",
      "metadata": {
        "id": "j6Bo4nn-_pnk"
      },
      "source": [
        "# 1. 相关库导入\n",
        "\n",
        "\n",
        "\n",
        "> 本模型采用神经网络算法，采用python3语言和Tensorflow框架，从文件中读取待处理数据进行训练，故需导入numpy，tenserflow，matplotlib等库。\n",
        "\n",
        "\n",
        "  代码如下：\n",
        "\n"
      ]
    },
    {
      "cell_type": "code",
      "metadata": {
        "id": "2GiCnSr-_PR-",
        "colab": {
          "base_uri": "https://localhost:8080/"
        },
        "outputId": "c29f880e-bc7d-4485-8c1f-4c7a855a1fcc"
      },
      "source": [
        "# TensorFlow and tf.keras\n",
        "import tensorflow as tf\n",
        "from tensorflow import keras\n",
        "\n",
        "# Helper libraries\n",
        "import numpy as np\n",
        "import matplotlib.pyplot as plt\n",
        "\n",
        "print(tf.__version__)"
      ],
      "execution_count": 1,
      "outputs": [
        {
          "output_type": "stream",
          "text": [
            "2.4.1\n"
          ],
          "name": "stdout"
        }
      ]
    },
    {
      "cell_type": "markdown",
      "metadata": {
        "id": "74j9LhAfsG7a"
      },
      "source": [
        "# 2. 数据预处理"
      ]
    },
    {
      "cell_type": "markdown",
      "metadata": {
        "id": "wHAtkGiUHPIG"
      },
      "source": [
        "# 2.1 导入数据\n",
        "  从文件中导入分析原始数据所需各个特征的数据，包括心率，心率变异性的指标等等。代码如下："
      ]
    },
    {
      "cell_type": "code",
      "metadata": {
        "id": "4mHwyMLs_Qum"
      },
      "source": [
        "cols = range(0,10)\n",
        "cols = tuple(cols)\n",
        "train_data = np.loadtxt(open(\"1.csv\",\"rb\"), delimiter = \",\", skiprows = 0, usecols = cols)\n",
        "train_label = np.loadtxt(open(\"1.csv\",\"rb\"), delimiter = \",\", skiprows = 0, usecols = (10))"
      ],
      "execution_count": 39,
      "outputs": []
    },
    {
      "cell_type": "markdown",
      "metadata": {
        "id": "URmSGOGp_RVf"
      },
      "source": [
        "# 2.2 浏览数据"
      ]
    },
    {
      "cell_type": "code",
      "metadata": {
        "colab": {
          "base_uri": "https://localhost:8080/"
        },
        "id": "w_APPwEZI7jZ",
        "outputId": "4d2ad142-4a5e-4c3e-a45b-608cf0fb93a8"
      },
      "source": [
        "print(train_data)\n",
        "print(train_label)"
      ],
      "execution_count": 40,
      "outputs": [
        {
          "output_type": "stream",
          "text": [
            "[[1. 2. 3. 4. 5. 6. 7. 8. 9. 0.]\n",
            " [1. 2. 3. 4. 5. 6. 7. 8. 9. 1.]\n",
            " [1. 2. 3. 4. 5. 6. 7. 8. 9. 2.]]\n",
            "[1. 1. 1.]\n"
          ],
          "name": "stdout"
        }
      ]
    },
    {
      "cell_type": "markdown",
      "metadata": {
        "id": "3hGPB5MusQML"
      },
      "source": [
        "# 3. 模型搭建"
      ]
    },
    {
      "cell_type": "markdown",
      "metadata": {
        "id": "8KRSsizQsTyp"
      },
      "source": [
        "# 4. 模型训练"
      ]
    },
    {
      "cell_type": "markdown",
      "metadata": {
        "id": "2KL_AhQusXdh"
      },
      "source": [
        "# 5. 模型检验"
      ]
    }
  ]
}