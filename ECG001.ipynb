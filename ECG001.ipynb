{
  "nbformat": 4,
  "nbformat_minor": 0,
  "metadata": {
    "colab": {
      "name": "ECG001.ipynb",
      "provenance": [],
      "toc_visible": true,
      "authorship_tag": "ABX9TyPysXcYYLCwDWwDBxepRCOa",
      "include_colab_link": true
    },
    "kernelspec": {
      "name": "python3",
      "display_name": "Python 3"
    },
    "accelerator": "GPU"
  },
  "cells": [
    {
      "cell_type": "markdown",
      "metadata": {
        "id": "view-in-github",
        "colab_type": "text"
      },
      "source": [
        "<a href=\"https://colab.research.google.com/github/hackinglove/ECG_capacity/blob/main/ECG001.ipynb\" target=\"_parent\"><img src=\"https://colab.research.google.com/assets/colab-badge.svg\" alt=\"Open In Colab\"/></a>"
      ]
    },
    {
      "cell_type": "markdown",
      "metadata": {
        "id": "j6Bo4nn-_pnk"
      },
      "source": [
        "# 1. 相关库导入\n",
        "\n",
        "\n",
        "\n",
        "> 本模型采用神经网络算法，采用python3语言和Tensorflow框架，从文件中读取待处理数据进行训练，故需导入numpy，tenserflow，matplotlib等库。\n",
        "\n",
        "\n",
        "  代码如下：\n",
        "\n"
      ]
    },
    {
      "cell_type": "code",
      "metadata": {
        "id": "2GiCnSr-_PR-",
        "colab": {
          "base_uri": "https://localhost:8080/"
        },
        "outputId": "3e13f75a-c4d5-41bb-f4d0-c658959972bb"
      },
      "source": [
        "# TensorFlow and tf.keras\r\n",
        "import tensorflow as tf\r\n",
        "from tensorflow import keras\r\n",
        "\r\n",
        "# Helper libraries\r\n",
        "import numpy as np\r\n",
        "import matplotlib.pyplot as plt\r\n",
        "\r\n",
        "print(tf.__version__)"
      ],
      "execution_count": 1,
      "outputs": [
        {
          "output_type": "stream",
          "text": [
            "2.4.1\n"
          ],
          "name": "stdout"
        }
      ]
    },
    {
      "cell_type": "markdown",
      "metadata": {
        "id": "74j9LhAfsG7a"
      },
      "source": [
        "# 2. 数据预处理"
      ]
    },
    {
      "cell_type": "markdown",
      "metadata": {
        "id": "wHAtkGiUHPIG"
      },
      "source": [
        "# 2.1 导入数据\r\n",
        "  从文件中导入分析原始数据所需各个特征的数据，包括心率，心率变异性的指标等等。代码如下："
      ]
    },
    {
      "cell_type": "code",
      "metadata": {
        "colab": {
          "base_uri": "https://localhost:8080/"
        },
        "id": "4mHwyMLs_Qum",
        "outputId": "27130bca-e302-43ae-e274-9f745d6c005d"
      },
      "source": [
        "fashion_mnist = keras.datasets.fashion_mnist\r\n",
        "\r\n",
        "(train_images, train_labels), (test_images, test_labels) = fashion_mnist.load_data()"
      ],
      "execution_count": 2,
      "outputs": [
        {
          "output_type": "stream",
          "text": [
            "Downloading data from https://storage.googleapis.com/tensorflow/tf-keras-datasets/train-labels-idx1-ubyte.gz\n",
            "32768/29515 [=================================] - 0s 0us/step\n",
            "Downloading data from https://storage.googleapis.com/tensorflow/tf-keras-datasets/train-images-idx3-ubyte.gz\n",
            "26427392/26421880 [==============================] - 0s 0us/step\n",
            "Downloading data from https://storage.googleapis.com/tensorflow/tf-keras-datasets/t10k-labels-idx1-ubyte.gz\n",
            "8192/5148 [===============================================] - 0s 0us/step\n",
            "Downloading data from https://storage.googleapis.com/tensorflow/tf-keras-datasets/t10k-images-idx3-ubyte.gz\n",
            "4423680/4422102 [==============================] - 0s 0us/step\n"
          ],
          "name": "stdout"
        }
      ]
    },
    {
      "cell_type": "code",
      "metadata": {
        "id": "SO35HYjS_eLc"
      },
      "source": [
        "class_names = ['T-shirt/top', 'Trouser', 'Pullover', 'Dress', 'Coat',\r\n",
        "               'Sandal', 'Shirt', 'Sneaker', 'Bag', 'Ankle boot']"
      ],
      "execution_count": 3,
      "outputs": []
    },
    {
      "cell_type": "markdown",
      "metadata": {
        "id": "URmSGOGp_RVf"
      },
      "source": [
        "# 2.2 浏览数据"
      ]
    },
    {
      "cell_type": "markdown",
      "metadata": {
        "id": "3hGPB5MusQML"
      },
      "source": [
        "# 3. 模型搭建"
      ]
    },
    {
      "cell_type": "markdown",
      "metadata": {
        "id": "8KRSsizQsTyp"
      },
      "source": [
        "# 4. 模型训练"
      ]
    },
    {
      "cell_type": "markdown",
      "metadata": {
        "id": "2KL_AhQusXdh"
      },
      "source": [
        "# 5. 模型检验"
      ]
    }
  ]
}